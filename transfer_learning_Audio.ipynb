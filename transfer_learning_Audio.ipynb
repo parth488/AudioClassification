{
  "nbformat": 4,
  "nbformat_minor": 0,
  "metadata": {
    "colab": {
      "name": "transfer learning Audio.ipynb",
      "provenance": [],
      "collapsed_sections": []
    },
    "kernelspec": {
      "name": "python3",
      "display_name": "Python 3"
    },
    "language_info": {
      "name": "python"
    },
    "accelerator": "GPU"
  },
  "cells": [
    {
      "cell_type": "code",
      "execution_count": 64,
      "metadata": {
        "id": "nkgfL-0p8kKV"
      },
      "outputs": [],
      "source": [
        "import tensorflow as tf"
      ]
    },
    {
      "cell_type": "code",
      "source": [
        "!nvidia-smi"
      ],
      "metadata": {
        "colab": {
          "base_uri": "https://localhost:8080/"
        },
        "id": "kSYYc9BBCgFi",
        "outputId": "2f5237c6-7836-4f06-fff2-99ec2d9e0cf1"
      },
      "execution_count": 65,
      "outputs": [
        {
          "output_type": "stream",
          "name": "stdout",
          "text": [
            "Thu Mar 31 13:39:12 2022       \n",
            "+-----------------------------------------------------------------------------+\n",
            "| NVIDIA-SMI 460.32.03    Driver Version: 460.32.03    CUDA Version: 11.2     |\n",
            "|-------------------------------+----------------------+----------------------+\n",
            "| GPU  Name        Persistence-M| Bus-Id        Disp.A | Volatile Uncorr. ECC |\n",
            "| Fan  Temp  Perf  Pwr:Usage/Cap|         Memory-Usage | GPU-Util  Compute M. |\n",
            "|                               |                      |               MIG M. |\n",
            "|===============================+======================+======================|\n",
            "|   0  Tesla K80           Off  | 00000000:00:04.0 Off |                    0 |\n",
            "| N/A   48C    P0    59W / 149W |   8457MiB / 11441MiB |      0%      Default |\n",
            "|                               |                      |                  N/A |\n",
            "+-------------------------------+----------------------+----------------------+\n",
            "                                                                               \n",
            "+-----------------------------------------------------------------------------+\n",
            "| Processes:                                                                  |\n",
            "|  GPU   GI   CI        PID   Type   Process name                  GPU Memory |\n",
            "|        ID   ID                                                   Usage      |\n",
            "|=============================================================================|\n",
            "+-----------------------------------------------------------------------------+\n"
          ]
        }
      ]
    },
    {
      "cell_type": "code",
      "source": [
        "tf.__version__"
      ],
      "metadata": {
        "colab": {
          "base_uri": "https://localhost:8080/",
          "height": 35
        },
        "id": "wQyh24cKEa6H",
        "outputId": "a6f233aa-a61a-4246-d8b3-15017142e1ca"
      },
      "execution_count": 66,
      "outputs": [
        {
          "output_type": "execute_result",
          "data": {
            "text/plain": [
              "'2.8.0'"
            ],
            "application/vnd.google.colaboratory.intrinsic+json": {
              "type": "string"
            }
          },
          "metadata": {},
          "execution_count": 66
        }
      ]
    },
    {
      "cell_type": "code",
      "source": [
        "import numpy as np\n",
        "import scipy\n",
        "from scipy import misc\n",
        "import glob\n",
        "from PIL import Image\n",
        "import os\n",
        "import matplotlib.pyplot as plt\n",
        "import librosa\n",
        "from tensorflow.keras import layers\n",
        "from tensorflow.keras.layers import (Input, Add, Dense, Dropout, Activation, ZeroPadding2D, BatchNormalization, Flatten, Conv2D, AveragePooling2D, MaxPooling2D, GlobalMaxPooling2D)\n",
        "from tensorflow.keras.models import Model, load_model\n",
        "from tensorflow.keras.preprocessing import image\n",
        "#import pydot\n",
        "from tensorflow.python.keras.utils import layer_utils\n",
        "from IPython.display import SVG\n",
        "from tensorflow.python.keras.utils.vis_utils import model_to_dot\n",
        "from tensorflow.keras.utils import plot_model\n",
        "from tensorflow.keras.optimizers import Adam\n",
        "from tensorflow.keras.initializers import glorot_uniform\n",
        "from matplotlib.backends.backend_agg import FigureCanvasAgg as FigureCanvas\n",
        "#from pydub import AudioSegment\n",
        "import shutil\n",
        "from tensorflow.keras.preprocessing.image import ImageDataGenerator\n",
        "import random"
      ],
      "metadata": {
        "id": "kTRg-WbpEbB6"
      },
      "execution_count": 67,
      "outputs": []
    },
    {
      "cell_type": "code",
      "source": [
        "train_dir = '/content/drive/MyDrive/Programs/train'\n",
        "train_datagen = ImageDataGenerator(rescale=1./255)\n",
        "train_generator = train_datagen.flow_from_directory(train_dir,target_size=(288,432),color_mode=\"rgb\",class_mode='categorical',batch_size=128)\n",
        "\n",
        "validation_dir = '/content/drive/MyDrive/Programs/test'\n",
        "vali_datagen = ImageDataGenerator(rescale=1./255)\n",
        "vali_generator = vali_datagen.flow_from_directory(validation_dir,target_size=(288,432),color_mode='rgb',class_mode='categorical',batch_size=128)\n"
      ],
      "metadata": {
        "colab": {
          "base_uri": "https://localhost:8080/",
          "height": 0
        },
        "id": "S-WZTmkyEbG5",
        "outputId": "306c2183-42ac-406a-8003-21793220eb9f"
      },
      "execution_count": 5,
      "outputs": [
        {
          "output_type": "stream",
          "name": "stdout",
          "text": [
            "Found 8100 images belonging to 9 classes.\n",
            "Found 900 images belonging to 9 classes.\n"
          ]
        }
      ]
    },
    {
      "cell_type": "code",
      "source": [
        "next(train_generator)[0][0].shape"
      ],
      "metadata": {
        "colab": {
          "base_uri": "https://localhost:8080/",
          "height": 0
        },
        "id": "kwHj2b_yWojS",
        "outputId": "9f9a4293-9675-4e84-8890-3d8765066d53"
      },
      "execution_count": 6,
      "outputs": [
        {
          "output_type": "execute_result",
          "data": {
            "text/plain": [
              "(288, 432, 3)"
            ]
          },
          "metadata": {},
          "execution_count": 6
        }
      ]
    },
    {
      "cell_type": "code",
      "source": [
        "import matplotlib.pyplot as plt\n",
        "plt.imshow(next(train_generator)[0][0])"
      ],
      "metadata": {
        "colab": {
          "base_uri": "https://localhost:8080/",
          "height": 287
        },
        "id": "3YCaWL0kWomE",
        "outputId": "dacac956-74e9-4bac-be77-721ad5349cda"
      },
      "execution_count": 7,
      "outputs": [
        {
          "output_type": "execute_result",
          "data": {
            "text/plain": [
              "<matplotlib.image.AxesImage at 0x7f7addee6990>"
            ]
          },
          "metadata": {},
          "execution_count": 7
        },
        {
          "output_type": "display_data",
          "data": {
            "text/plain": [
              "<Figure size 432x288 with 1 Axes>"
            ],
            "image/png": "[encoded data removed]"
          },
          "metadata": {
            "needs_background": "light"
          }
        }
      ]
    },
    {
      "cell_type": "code",
      "source": [
        "from tensorflow.keras.applications import ResNet50\n",
        "from tensorflow.keras.models import Sequential\n",
        "from tensorflow.keras.layers import Flatten,Dense,Input\n",
        "inp = Input(shape = next(train_generator)[0][0].shape)\n",
        "model = ResNet50(\n",
        "    include_top=False,\n",
        "    weights=\"imagenet\",\n",
        "    \n",
        "    classes=9,\n",
        "    input_tensor = inp\n",
        ")"
      ],
      "metadata": {
        "colab": {
          "base_uri": "https://localhost:8080/",
          "height": 0
        },
        "id": "7pcsv42xWop4",
        "outputId": "01d72cb4-e7bd-4fe2-f9dd-ab0148b1cc8a"
      },
      "execution_count": 8,
      "outputs": [
        {
          "output_type": "stream",
          "name": "stdout",
          "text": [
            "Downloading data from https://storage.googleapis.com/tensorflow/keras-applications/resnet/resnet50_weights_tf_dim_ordering_tf_kernels_notop.h5\n",
            "94773248/94765736 [==============================] - 1s 0us/step\n",
            "94781440/94765736 [==============================] - 1s 0us/step\n"
          ]
        }
      ]
    },
    {
      "cell_type": "code",
      "source": [
        "for layer in model.layers:\n",
        "    layer.trainable=False"
      ],
      "metadata": {
        "id": "u5oTrlQuWow0"
      },
      "execution_count": 9,
      "outputs": []
    },
    {
      "cell_type": "code",
      "source": [
        "from tensorflow.keras.layers import BatchNormalization,Dropout,Conv2D\n",
        "new_model = Sequential()\n",
        "\n",
        "new_model.add(model)\n",
        "\n",
        "new_model.add(Flatten())\n",
        "\n",
        "new_model.add(BatchNormalization())\n",
        "new_model.add(Dense(128, activation='relu'))\n",
        "new_model.add(Dropout(0.5))\n",
        "\n",
        "new_model.add(BatchNormalization())\n",
        "new_model.add(Dense(64, activation='relu'))\n",
        "new_model.add(Dropout(0.5))\n",
        "\n",
        "\n",
        "new_model.add(Dense(9, activation='softmax'))"
      ],
      "metadata": {
        "id": "q4BpwWSNXjqM"
      },
      "execution_count": 10,
      "outputs": []
    },
    {
      "cell_type": "code",
      "source": [
        "new_model.summary()"
      ],
      "metadata": {
        "colab": {
          "base_uri": "https://localhost:8080/",
          "height": 0
        },
        "id": "nuvr0EPTXjsp",
        "outputId": "08bc419a-4cd2-4ad2-dc7a-829603955c09"
      },
      "execution_count": 11,
      "outputs": [
        {
          "output_type": "stream",
          "name": "stdout",
          "text": [
            "Model: \"sequential\"\n",
            "_________________________________________________________________\n",
            " Layer (type)                Output Shape              Param #   \n",
            "=================================================================\n",
            " resnet50 (Functional)       (None, 9, 14, 2048)       23587712  \n",
            "                                                                 \n",
            " flatten (Flatten)           (None, 258048)            0         \n",
            "                                                                 \n",
            " batch_normalization (BatchN  (None, 258048)           1032192   \n",
            " ormalization)                                                   \n",
            "                                                                 \n",
            " dense (Dense)               (None, 128)               33030272  \n",
            "                                                                 \n",
            " dropout (Dropout)           (None, 128)               0         \n",
            "                                                                 \n",
            " batch_normalization_1 (Batc  (None, 128)              512       \n",
            " hNormalization)                                                 \n",
            "                                                                 \n",
            " dense_1 (Dense)             (None, 64)                8256      \n",
            "                                                                 \n",
            " dropout_1 (Dropout)         (None, 64)                0         \n",
            "                                                                 \n",
            " dense_2 (Dense)             (None, 9)                 585       \n",
            "                                                                 \n",
            "=================================================================\n",
            "Total params: 57,659,529\n",
            "Trainable params: 33,555,465\n",
            "Non-trainable params: 24,104,064\n",
            "_________________________________________________________________\n"
          ]
        }
      ]
    },
    {
      "cell_type": "code",
      "source": [
        "new_model.compile(loss = 'categorical_crossentropy',optimizer='Adam',metrics=['accuracy'])"
      ],
      "metadata": {
        "id": "lXZjGSUNXjzp"
      },
      "execution_count": 12,
      "outputs": []
    },
    {
      "cell_type": "code",
      "source": [
        "new_model.fit(train_generator,epochs=50,validation_data=vali_generator)"
      ],
      "metadata": {
        "colab": {
          "base_uri": "https://localhost:8080/",
          "height": 0
        },
        "id": "TpuaHaXgXqYd",
        "outputId": "854b2153-b430-4a3a-a438-496f091220c4"
      },
      "execution_count": 13,
      "outputs": [
        {
          "output_type": "stream",
          "name": "stdout",
          "text": [
            "Epoch 1/50\n",
            "64/64 [==============================] - 2607s 40s/step - loss: 1.9386 - accuracy: 0.3196 - val_loss: 2.4180 - val_accuracy: 0.1267\n",
            "Epoch 2/50\n",
            "64/64 [==============================] - 139s 2s/step - loss: 1.3727 - accuracy: 0.4943 - val_loss: 2.1247 - val_accuracy: 0.1656\n",
            "Epoch 3/50\n",
            "64/64 [==============================] - 139s 2s/step - loss: 1.1129 - accuracy: 0.5775 - val_loss: 1.7495 - val_accuracy: 0.3044\n",
            "Epoch 4/50\n",
            "64/64 [==============================] - 140s 2s/step - loss: 0.9568 - accuracy: 0.6373 - val_loss: 1.4087 - val_accuracy: 0.4011\n",
            "Epoch 5/50\n",
            "64/64 [==============================] - 139s 2s/step - loss: 0.8661 - accuracy: 0.6678 - val_loss: 1.3754 - val_accuracy: 0.4167\n",
            "Epoch 6/50\n",
            "64/64 [==============================] - 139s 2s/step - loss: 0.7935 - accuracy: 0.7000 - val_loss: 1.1817 - val_accuracy: 0.5389\n",
            "Epoch 7/50\n",
            "64/64 [==============================] - 140s 2s/step - loss: 0.7482 - accuracy: 0.7152 - val_loss: 0.8285 - val_accuracy: 0.7356\n",
            "Epoch 8/50\n",
            "64/64 [==============================] - 139s 2s/step - loss: 0.7000 - accuracy: 0.7256 - val_loss: 0.6888 - val_accuracy: 0.7689\n",
            "Epoch 9/50\n",
            "64/64 [==============================] - 140s 2s/step - loss: 0.6584 - accuracy: 0.7527 - val_loss: 0.6500 - val_accuracy: 0.7811\n",
            "Epoch 10/50\n",
            "64/64 [==============================] - 140s 2s/step - loss: 0.6119 - accuracy: 0.7733 - val_loss: 0.5073 - val_accuracy: 0.8178\n",
            "Epoch 11/50\n",
            "64/64 [==============================] - 140s 2s/step - loss: 0.6132 - accuracy: 0.7760 - val_loss: 0.6365 - val_accuracy: 0.8000\n",
            "Epoch 12/50\n",
            "64/64 [==============================] - 140s 2s/step - loss: 0.6243 - accuracy: 0.7646 - val_loss: 0.4746 - val_accuracy: 0.8233\n",
            "Epoch 13/50\n",
            "64/64 [==============================] - 138s 2s/step - loss: 0.5498 - accuracy: 0.7902 - val_loss: 0.4755 - val_accuracy: 0.8311\n",
            "Epoch 14/50\n",
            "64/64 [==============================] - 137s 2s/step - loss: 0.6745 - accuracy: 0.7419 - val_loss: 0.5193 - val_accuracy: 0.8089\n",
            "Epoch 15/50\n",
            "64/64 [==============================] - 138s 2s/step - loss: 0.6182 - accuracy: 0.7689 - val_loss: 0.4706 - val_accuracy: 0.8256\n",
            "Epoch 16/50\n",
            "64/64 [==============================] - 139s 2s/step - loss: 0.5599 - accuracy: 0.7904 - val_loss: 0.4874 - val_accuracy: 0.8122\n",
            "Epoch 17/50\n",
            "64/64 [==============================] - 139s 2s/step - loss: 0.5270 - accuracy: 0.8056 - val_loss: 0.4622 - val_accuracy: 0.8211\n",
            "Epoch 18/50\n",
            "64/64 [==============================] - 140s 2s/step - loss: 0.5264 - accuracy: 0.8085 - val_loss: 0.4322 - val_accuracy: 0.8422\n",
            "Epoch 19/50\n",
            "64/64 [==============================] - 140s 2s/step - loss: 0.5399 - accuracy: 0.7965 - val_loss: 0.4938 - val_accuracy: 0.8078\n",
            "Epoch 20/50\n",
            "64/64 [==============================] - 140s 2s/step - loss: 0.5127 - accuracy: 0.8074 - val_loss: 0.4467 - val_accuracy: 0.8200\n",
            "Epoch 21/50\n",
            "64/64 [==============================] - 140s 2s/step - loss: 0.5041 - accuracy: 0.8141 - val_loss: 0.4249 - val_accuracy: 0.8322\n",
            "Epoch 22/50\n",
            "64/64 [==============================] - 140s 2s/step - loss: 0.5014 - accuracy: 0.8098 - val_loss: 0.4411 - val_accuracy: 0.8233\n",
            "Epoch 23/50\n",
            "64/64 [==============================] - 139s 2s/step - loss: 0.4815 - accuracy: 0.8227 - val_loss: 0.3902 - val_accuracy: 0.8544\n",
            "Epoch 24/50\n",
            "64/64 [==============================] - 139s 2s/step - loss: 0.4716 - accuracy: 0.8273 - val_loss: 0.3869 - val_accuracy: 0.8411\n",
            "Epoch 25/50\n",
            "64/64 [==============================] - 139s 2s/step - loss: 0.4837 - accuracy: 0.8205 - val_loss: 0.4170 - val_accuracy: 0.8433\n",
            "Epoch 26/50\n",
            "64/64 [==============================] - 139s 2s/step - loss: 0.4499 - accuracy: 0.8393 - val_loss: 0.3925 - val_accuracy: 0.8456\n",
            "Epoch 27/50\n",
            "64/64 [==============================] - 139s 2s/step - loss: 0.4591 - accuracy: 0.8379 - val_loss: 0.4407 - val_accuracy: 0.8244\n",
            "Epoch 28/50\n",
            "64/64 [==============================] - 139s 2s/step - loss: 0.4360 - accuracy: 0.8430 - val_loss: 0.4098 - val_accuracy: 0.8478\n",
            "Epoch 29/50\n",
            "64/64 [==============================] - 139s 2s/step - loss: 0.4329 - accuracy: 0.8446 - val_loss: 0.4257 - val_accuracy: 0.8522\n",
            "Epoch 30/50\n",
            "64/64 [==============================] - 139s 2s/step - loss: 0.4388 - accuracy: 0.8436 - val_loss: 0.4259 - val_accuracy: 0.8411\n",
            "Epoch 31/50\n",
            "64/64 [==============================] - 140s 2s/step - loss: 0.4167 - accuracy: 0.8489 - val_loss: 0.3918 - val_accuracy: 0.8467\n",
            "Epoch 32/50\n",
            "64/64 [==============================] - 140s 2s/step - loss: 0.3959 - accuracy: 0.8601 - val_loss: 0.3965 - val_accuracy: 0.8544\n",
            "Epoch 33/50\n",
            "64/64 [==============================] - 140s 2s/step - loss: 0.3982 - accuracy: 0.8558 - val_loss: 0.4552 - val_accuracy: 0.8344\n",
            "Epoch 34/50\n",
            "64/64 [==============================] - 139s 2s/step - loss: 0.3936 - accuracy: 0.8562 - val_loss: 0.4273 - val_accuracy: 0.8422\n",
            "Epoch 35/50\n",
            "64/64 [==============================] - 139s 2s/step - loss: 0.3825 - accuracy: 0.8617 - val_loss: 0.3901 - val_accuracy: 0.8522\n",
            "Epoch 36/50\n",
            "64/64 [==============================] - 140s 2s/step - loss: 0.3768 - accuracy: 0.8609 - val_loss: 0.3963 - val_accuracy: 0.8500\n",
            "Epoch 37/50\n",
            "64/64 [==============================] - 140s 2s/step - loss: 0.3772 - accuracy: 0.8632 - val_loss: 0.3975 - val_accuracy: 0.8456\n",
            "Epoch 38/50\n",
            "64/64 [==============================] - 140s 2s/step - loss: 0.3617 - accuracy: 0.8685 - val_loss: 0.3532 - val_accuracy: 0.8589\n",
            "Epoch 39/50\n",
            "64/64 [==============================] - 139s 2s/step - loss: 0.3392 - accuracy: 0.8744 - val_loss: 0.3899 - val_accuracy: 0.8578\n",
            "Epoch 40/50\n",
            "64/64 [==============================] - 139s 2s/step - loss: 0.3522 - accuracy: 0.8702 - val_loss: 0.3518 - val_accuracy: 0.8633\n",
            "Epoch 41/50\n",
            "64/64 [==============================] - 139s 2s/step - loss: 0.3522 - accuracy: 0.8779 - val_loss: 0.3793 - val_accuracy: 0.8600\n",
            "Epoch 42/50\n",
            "64/64 [==============================] - 139s 2s/step - loss: 0.3368 - accuracy: 0.8810 - val_loss: 0.3480 - val_accuracy: 0.8622\n",
            "Epoch 43/50\n",
            "64/64 [==============================] - 139s 2s/step - loss: 0.3433 - accuracy: 0.8757 - val_loss: 0.3553 - val_accuracy: 0.8478\n",
            "Epoch 44/50\n",
            "64/64 [==============================] - 139s 2s/step - loss: 0.3141 - accuracy: 0.8863 - val_loss: 0.3403 - val_accuracy: 0.8711\n",
            "Epoch 45/50\n",
            "64/64 [==============================] - 140s 2s/step - loss: 0.3560 - accuracy: 0.8746 - val_loss: 0.4238 - val_accuracy: 0.8411\n",
            "Epoch 46/50\n",
            "64/64 [==============================] - 140s 2s/step - loss: 0.3935 - accuracy: 0.8560 - val_loss: 0.3656 - val_accuracy: 0.8644\n",
            "Epoch 47/50\n",
            "64/64 [==============================] - 140s 2s/step - loss: 0.3759 - accuracy: 0.8679 - val_loss: 0.3923 - val_accuracy: 0.8600\n",
            "Epoch 48/50\n",
            "64/64 [==============================] - 140s 2s/step - loss: 0.3508 - accuracy: 0.8725 - val_loss: 0.4091 - val_accuracy: 0.8344\n",
            "Epoch 49/50\n",
            "64/64 [==============================] - 139s 2s/step - loss: 0.3259 - accuracy: 0.8796 - val_loss: 0.3631 - val_accuracy: 0.8633\n",
            "Epoch 50/50\n",
            "64/64 [==============================] - 140s 2s/step - loss: 0.3083 - accuracy: 0.8888 - val_loss: 0.3521 - val_accuracy: 0.8700\n"
          ]
        },
        {
          "output_type": "execute_result",
          "data": {
            "text/plain": [
              "<keras.callbacks.History at 0x7f7a63531990>"
            ]
          },
          "metadata": {},
          "execution_count": 13
        }
      ]
    },
    {
      "cell_type": "code",
      "source": [
        "!mkdir -p saved_model\n",
        "new_model.save('/content/drive/MyDrive/Programs/pb_model')"
      ],
      "metadata": {
        "colab": {
          "base_uri": "https://localhost:8080/"
        },
        "id": "w_eNeK_kXqdX",
        "outputId": "c34bf943-62b0-4ce6-b03d-24b5c9c200cb"
      },
      "execution_count": 15,
      "outputs": [
        {
          "output_type": "stream",
          "name": "stdout",
          "text": [
            "INFO:tensorflow:Assets written to: /content/drive/MyDrive/Programs/pb_model/assets\n"
          ]
        }
      ]
    },
    {
      "cell_type": "code",
      "source": [
        "new_model.save(\"/content/drive/MyDrive/Programs/h5_model\", save_format=\"h5\")"
      ],
      "metadata": {
        "id": "szclMvjc-GrP"
      },
      "execution_count": 16,
      "outputs": []
    },
    {
      "cell_type": "code",
      "source": [
        "new_model.history.history.keys()"
      ],
      "metadata": {
        "colab": {
          "base_uri": "https://localhost:8080/"
        },
        "id": "MvKmuLAnAJ7x",
        "outputId": "cd3c5979-ca24-4796-e4bb-6c8d14c10578"
      },
      "execution_count": 29,
      "outputs": [
        {
          "output_type": "execute_result",
          "data": {
            "text/plain": [
              "dict_keys(['loss', 'accuracy', 'val_loss', 'val_accuracy'])"
            ]
          },
          "metadata": {},
          "execution_count": 29
        }
      ]
    },
    {
      "cell_type": "code",
      "source": [
        "plt.plot(new_model.history.history['accuracy'],'b', new_model.history.history['val_accuracy'],'r')"
      ],
      "metadata": {
        "colab": {
          "base_uri": "https://localhost:8080/",
          "height": 302
        },
        "id": "Zt_x-uqn75Ij",
        "outputId": "fa6b807f-dce3-4b3a-a0d7-588c5a8bb236"
      },
      "execution_count": 37,
      "outputs": [
        {
          "output_type": "execute_result",
          "data": {
            "text/plain": [
              "[<matplotlib.lines.Line2D at 0x7f7a60dcf310>,\n",
              " <matplotlib.lines.Line2D at 0x7f7a616d1350>]"
            ]
          },
          "metadata": {},
          "execution_count": 37
        },
        {
          "output_type": "display_data",
          "data": {
            "text/plain": [
              "<Figure size 432x288 with 1 Axes>"
            ],
            "image/png": "[encoded data removed]"
          },
          "metadata": {
            "needs_background": "light"
          }
        }
      ]
    },
    {
      "cell_type": "code",
      "source": [
        "plt.plot(new_model.history.history['val_loss'],'g',new_model.history.history['loss'],'y')"
      ],
      "metadata": {
        "colab": {
          "base_uri": "https://localhost:8080/",
          "height": 303
        },
        "id": "PfZNbpQpBrNp",
        "outputId": "c6aef239-f2c1-48e0-fb66-fb20d38597e8"
      },
      "execution_count": 72,
      "outputs": [
        {
          "output_type": "execute_result",
          "data": {
            "text/plain": [
              "[<matplotlib.lines.Line2D at 0x7f79f00eae90>,\n",
              " <matplotlib.lines.Line2D at 0x7f79f00ea810>]"
            ]
          },
          "metadata": {},
          "execution_count": 72
        },
        {
          "output_type": "display_data",
          "data": {
            "text/plain": [
              "<Figure size 432x288 with 1 Axes>"
            ],
            "image/png": "[encoded data removed]"
          },
          "metadata": {
            "needs_background": "light"
          }
        }
      ]
    },
    {
      "cell_type": "code",
      "source": [
        "transferlearning_model = tf.keras.models.load_model('/content/drive/MyDrive/Programs/pb_model')\n",
        "# Check its architecture\n",
        "transferlearning_model.summary()"
      ],
      "metadata": {
        "colab": {
          "base_uri": "https://localhost:8080/"
        },
        "id": "VttqO6vI74-N",
        "outputId": "f04c0906-2b02-492e-ede3-58366254989b"
      },
      "execution_count": 39,
      "outputs": [
        {
          "output_type": "stream",
          "name": "stdout",
          "text": [
            "Model: \"sequential\"\n",
            "_________________________________________________________________\n",
            " Layer (type)                Output Shape              Param #   \n",
            "=================================================================\n",
            " resnet50 (Functional)       (None, 9, 14, 2048)       23587712  \n",
            "                                                                 \n",
            " flatten (Flatten)           (None, 258048)            0         \n",
            "                                                                 \n",
            " batch_normalization (BatchN  (None, 258048)           1032192   \n",
            " ormalization)                                                   \n",
            "                                                                 \n",
            " dense (Dense)               (None, 128)               33030272  \n",
            "                                                                 \n",
            " dropout (Dropout)           (None, 128)               0         \n",
            "                                                                 \n",
            " batch_normalization_1 (Batc  (None, 128)              512       \n",
            " hNormalization)                                                 \n",
            "                                                                 \n",
            " dense_1 (Dense)             (None, 64)                8256      \n",
            "                                                                 \n",
            " dropout_1 (Dropout)         (None, 64)                0         \n",
            "                                                                 \n",
            " dense_2 (Dense)             (None, 9)                 585       \n",
            "                                                                 \n",
            "=================================================================\n",
            "Total params: 57,659,529\n",
            "Trainable params: 33,555,465\n",
            "Non-trainable params: 24,104,064\n",
            "_________________________________________________________________\n"
          ]
        }
      ]
    },
    {
      "cell_type": "markdown",
      "source": [
        "***Checking and verifiying Model For results***"
      ],
      "metadata": {
        "id": "tHdcHLWqClS4"
      }
    },
    {
      "cell_type": "code",
      "source": [
        "genres_ordered =  'rock reggae pop metal hiphop disco country classical blues'"
      ],
      "metadata": {
        "id": "qAoBGI-UDFRu"
      },
      "execution_count": 41,
      "outputs": []
    },
    {
      "cell_type": "code",
      "source": [
        "genres_ordered_prediction=genres_ordered.split(\" \")"
      ],
      "metadata": {
        "id": "-YaCoYwwD51i"
      },
      "execution_count": 56,
      "outputs": []
    },
    {
      "cell_type": "code",
      "source": [
        "genres_ordered_prediction.reverse()"
      ],
      "metadata": {
        "id": "uYEFbTeREZKV"
      },
      "execution_count": 57,
      "outputs": []
    },
    {
      "cell_type": "code",
      "source": [
        "print(genres_ordered_prediction)"
      ],
      "metadata": {
        "colab": {
          "base_uri": "https://localhost:8080/"
        },
        "id": "qQRXIUKnEpFw",
        "outputId": "7934ffc5-02ae-4af3-a067-86579470a80f"
      },
      "execution_count": 58,
      "outputs": [
        {
          "output_type": "stream",
          "name": "stdout",
          "text": [
            "['blues', 'classical', 'country', 'disco', 'hiphop', 'metal', 'pop', 'reggae', 'rock']\n"
          ]
        }
      ]
    },
    {
      "cell_type": "code",
      "source": [
        "img1 = image.load_img('/content/drive/MyDrive/Programs/Test Wav/melspectrogram.png',color_mode='rgb', target_size=(288,432,3))\n",
        "img = image.img_to_array(img1)\n",
        "img = img/255\n"
      ],
      "metadata": {
        "id": "tDd7xuYUChxX"
      },
      "execution_count": 82,
      "outputs": []
    },
    {
      "cell_type": "code",
      "source": [
        "img = np.expand_dims(img, axis=0)"
      ],
      "metadata": {
        "id": "dHXGvPAZDFVM"
      },
      "execution_count": 83,
      "outputs": []
    },
    {
      "cell_type": "code",
      "source": [
        "prediction = transferlearning_model.predict(img, batch_size=None,steps=1) "
      ],
      "metadata": {
        "id": "uZSixd-CDu3O"
      },
      "execution_count": 84,
      "outputs": []
    },
    {
      "cell_type": "code",
      "source": [
        "prediction"
      ],
      "metadata": {
        "colab": {
          "base_uri": "https://localhost:8080/"
        },
        "id": "whEul6I1EAxw",
        "outputId": "cd9663d4-b925-4bc1-8ec0-7c37a358f9bb"
      },
      "execution_count": 85,
      "outputs": [
        {
          "output_type": "execute_result",
          "data": {
            "text/plain": [
              "array([[1.3286838e-06, 9.9998546e-01, 1.2954768e-05, 1.9863917e-08,\n",
              "        1.3105174e-09, 6.8328049e-10, 2.1609262e-08, 5.8410812e-08,\n",
              "        8.4507803e-08]], dtype=float32)"
            ]
          },
          "metadata": {},
          "execution_count": 85
        }
      ]
    },
    {
      "cell_type": "code",
      "source": [
        "print(f'The predicted genre of the song is : {genres_ordered_prediction[np.argmax(prediction)]}')"
      ],
      "metadata": {
        "colab": {
          "base_uri": "https://localhost:8080/"
        },
        "id": "xxa_KKupD8tQ",
        "outputId": "f59702e0-a8fd-4dab-c712-16df1aa3ff3d"
      },
      "execution_count": 86,
      "outputs": [
        {
          "output_type": "stream",
          "name": "stdout",
          "text": [
            "The predicted genre of the song is : classical\n"
          ]
        }
      ]
    }
  ]
}